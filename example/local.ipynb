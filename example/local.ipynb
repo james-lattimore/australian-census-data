{
 "cells": [
  {
   "cell_type": "markdown",
   "metadata": {},
   "source": [
    "# Example notebook: Australian census data - local"
   ]
  },
  {
   "cell_type": "markdown",
   "metadata": {},
   "source": [
    "Example notebook to show how to download, process and display geopackaged Australian census data - local.\n",
    "\n",
    "Australian census data downloaded from:\n",
    " - https://www.abs.gov.au/census/find-census-data/geopackages\n",
    "\n",
    "Using the following settings:\n",
    " - 2021 census year\n",
    " - All state and territories\n",
    " - G01 tables (population counts)\n",
    " - 2020 GDA (geo data specifications)"
   ]
  },
  {
   "cell_type": "markdown",
   "metadata": {},
   "source": [
    "## Imports Libraries & Set Globals"
   ]
  },
  {
   "cell_type": "code",
   "execution_count": 1,
   "metadata": {},
   "outputs": [],
   "source": [
    "# Import libraries\n",
    "import geopandas as gpd\n",
    "import plotly.graph_objects as go\n",
    "import plotly.io as pio\n",
    "\n",
    "# Set globals\n",
    "WORKING_DIRECTORY = \\\n",
    "    'C:/Users/zlatt/Documents/data/australian-census-data'"
   ]
  },
  {
   "cell_type": "markdown",
   "metadata": {},
   "source": [
    "# Set Variables & Load Data"
   ]
  },
  {
   "cell_type": "code",
   "execution_count": 2,
   "metadata": {},
   "outputs": [],
   "source": [
    "# Set variables\n",
    "census_year = '2021'\n",
    "geo_type = 'AUST'\n",
    "data_topic = 'G01'\n",
    "gda_type = '2020'\n",
    "map_type = 'SA4'\n",
    "\n",
    "# Load data\n",
    "geo_file_directory = \\\n",
    "    f'Geopackage_{census_year}_{data_topic}_{geo_type}_GDA{gda_type}'\n",
    "geo_file_name = \\\n",
    "    f'{data_topic}_{geo_type}_GDA{gda_type}.gpkg'\n",
    "\n",
    "file_path = \\\n",
    "    f'{WORKING_DIRECTORY}/{geo_file_directory}/{geo_file_name}'\n",
    "geo_layer = \\\n",
    "    f'{data_topic}_{map_type}_{census_year}_{geo_type}'\n",
    "\n",
    "census_gdf = gpd.read_file(\n",
    "    filename=file_path,\n",
    "    layer=geo_layer\n",
    ")\n",
    "\n",
    "# Process data\n",
    "columns = [\n",
    "    #f'{map_type}_CODE_{census_year}',\n",
    "    f'{map_type}_NAME_{census_year}',\n",
    "    'Tot_P_P',\n",
    "    #'AREA_ALBERS_SQKM',\n",
    "    'geometry'\n",
    "]\n",
    "census_gdf = census_gdf[columns]\n",
    "\n",
    "rename_columns = {\n",
    "    #f'{map_type}_CODE_{census_year}': 'Code', \n",
    "    f'{map_type}_NAME_{census_year}': 'Name',\n",
    "    'Tot_P_P': 'Population',\n",
    "    #'AREA_ALBERS_SQKM': 'Area',\n",
    "    'geometry': 'geometry'\n",
    "}\n",
    "census_gdf = census_gdf.rename(columns=rename_columns)\n",
    "\n",
    "census_gdf = census_gdf[\n",
    "    census_gdf['geometry'] != None\n",
    "]\n",
    "census_gdf = census_gdf.reset_index(drop=True)\n",
    "\n",
    "column_types = {\n",
    "    #'Code': 'str',\n",
    "    'Name': 'str',\n",
    "    'Population': 'int',\n",
    "    #'Area': 'float',\n",
    "    'geometry': 'geometry'\n",
    "}\n",
    "census_gdf = census_gdf.astype(column_types)"
   ]
  },
  {
   "cell_type": "markdown",
   "metadata": {},
   "source": [
    "## Create Figure & Save Figure"
   ]
  },
  {
   "cell_type": "code",
   "execution_count": 3,
   "metadata": {},
   "outputs": [],
   "source": [
    "# Create figure data\n",
    "figure_df = census_gdf.copy()\n",
    "figure_df = figure_df.set_index('Name')\n",
    "figure_geojson = figure_df.__geo_interface__\n",
    "\n",
    "# Create figure\n",
    "figure = go.Figure()\n",
    "\n",
    "# Create and add choroplethmap trace\n",
    "trace = go.Choroplethmapbox(\n",
    "    name='Census Data',\n",
    "    geojson=figure_geojson,\n",
    "    locations=figure_df.index,\n",
    "    z=figure_df['Population'],\n",
    "    marker_opacity=0.5,\n",
    "    hovertemplate= \\\n",
    "        '<b>Location</b>: %{location}<br>'+\\\n",
    "        '<b>Population</b>: %{z:.2s}<extra></extra>'\n",
    ")\n",
    "figure = figure.add_trace(trace)\n",
    "\n",
    "# Create and add map layout\n",
    "layout = go.Layout(\n",
    "    mapbox=dict(\n",
    "        style=\"carto-positron\",\n",
    "        center=dict(\n",
    "            lat=-25,\n",
    "            lon=130\n",
    "        ),\n",
    "        zoom=2,\n",
    "        bounds=dict(\n",
    "            west=85,\n",
    "            east=185,\n",
    "            north=0,\n",
    "            south=-50\n",
    "        )\n",
    "    ),\n",
    "    autosize=True,\n",
    "    margin=dict(\n",
    "        l=0,\n",
    "        r=0,\n",
    "        t=0,\n",
    "        b=0\n",
    "    ),\n",
    "    height=650,\n",
    "    width=1300\n",
    ")\n",
    "figure = figure.update_layout(layout)"
   ]
  },
  {
   "cell_type": "code",
   "execution_count": null,
   "metadata": {},
   "outputs": [],
   "source": [
    "# Write figure\n",
    "figure_file_name = \\\n",
    "    f\"{data_topic}_{map_type}_{census_year}_{geo_type}_GDA{gda_type}\"\n",
    "pio.write_html(\n",
    "    figure,\n",
    "    f\"{WORKING_DIRECTORY}/figures/{figure_file_name}.html\"\n",
    ")\n",
    "pio.write_json(\n",
    "    figure,\n",
    "    f\"{WORKING_DIRECTORY}/figures/{figure_file_name}.json\",\n",
    ")"
   ]
  },
  {
   "cell_type": "markdown",
   "metadata": {},
   "source": [
    "## Load Figure & Display Figure"
   ]
  },
  {
   "cell_type": "code",
   "execution_count": null,
   "metadata": {},
   "outputs": [],
   "source": [
    "# Load figure\n",
    "figure_file_name = \\\n",
    "    f\"{data_topic}_{map_type}_{census_year}_{geo_type}_GDA{gda_type}\"\n",
    "figure = pio.read_json(\n",
    "    f\"{WORKING_DIRECTORY}/figures/{figure_file_name}.json\",\n",
    ")\n",
    "\n",
    "# Show figure\n",
    "figure.show()"
   ]
  }
 ],
 "metadata": {
  "kernelspec": {
   "display_name": "venv",
   "language": "python",
   "name": "python3"
  },
  "language_info": {
   "codemirror_mode": {
    "name": "ipython",
    "version": 3
   },
   "file_extension": ".py",
   "mimetype": "text/x-python",
   "name": "python",
   "nbconvert_exporter": "python",
   "pygments_lexer": "ipython3",
   "version": "3.9.6"
  }
 },
 "nbformat": 4,
 "nbformat_minor": 2
}
