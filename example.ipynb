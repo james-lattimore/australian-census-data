{
 "cells": [
  {
   "cell_type": "markdown",
   "metadata": {},
   "source": [
    "# Example notebook: Australian census data"
   ]
  },
  {
   "cell_type": "markdown",
   "metadata": {},
   "source": [
    "Example notebook to show how to download, process and display geopackaged Australian census data.\n",
    "\n",
    "Australian census data downloaded from:\n",
    " - https://www.abs.gov.au/census/find-census-data/geopackages\n",
    "\n",
    "Using the following settings:\n",
    " - 2021 census year\n",
    " - All state and territories\n",
    " - G01 tables (population counts)\n",
    " - 2020 GDA (geo data specifications)"
   ]
  },
  {
   "cell_type": "markdown",
   "metadata": {},
   "source": [
    "## Imports Libraries & Set Globals"
   ]
  },
  {
   "cell_type": "code",
   "execution_count": 1,
   "metadata": {},
   "outputs": [],
   "source": [
    "# Import libraries\n",
    "import geopandas as gpd\n",
    "import plotly.graph_objects as go\n",
    "\n",
    "# Set globals\n",
    "pass"
   ]
  },
  {
   "cell_type": "markdown",
   "metadata": {},
   "source": [
    "# Set Variables & Load Data"
   ]
  },
  {
   "cell_type": "code",
   "execution_count": 2,
   "metadata": {},
   "outputs": [],
   "source": [
    "# Set variables\n",
    "census_year = '2021'\n",
    "geo_type = 'AUST'\n",
    "data_topic = 'G01'\n",
    "gda_type = '2020'\n",
    "map_type = 'SA4'\n",
    "\n",
    "# Load data\n",
    "file_base = 'C:/Users/zlatt/Documents/data/australian-census-data'\n",
    "file_directory = f'Geopackage_{census_year}_{data_topic}_{geo_type}_GDA{gda_type}'\n",
    "file_name = f'{data_topic}_{geo_type}_GDA{gda_type}.gpkg'\n",
    "\n",
    "file_path = f'{file_base}/{file_directory}/{file_name}'\n",
    "layer = f'{data_topic}_{map_type}_{census_year}_{geo_type}'\n",
    "\n",
    "census_gdf = gpd.read_file(\n",
    "    filename=file_path,\n",
    "    layer=layer\n",
    ")\n",
    "\n",
    "# Process data\n",
    "columns = [\n",
    "    f'{map_type}_CODE_{census_year}',\n",
    "    f'{map_type}_NAME_{census_year}',\n",
    "    'Tot_P_P',\n",
    "    'AREA_ALBERS_SQKM',\n",
    "    'geometry'\n",
    "]\n",
    "census_gdf = census_gdf[columns]\n",
    "\n",
    "rename_columns = {\n",
    "    f'{map_type}_CODE_{census_year}': 'Code', \n",
    "    f'{map_type}_NAME_{census_year}': 'Name',\n",
    "    'Tot_P_P': 'Population',\n",
    "    'AREA_ALBERS_SQKM': 'Area',\n",
    "    'geometry': 'geometry'\n",
    "}\n",
    "census_gdf = census_gdf.rename(columns=rename_columns)\n",
    "\n",
    "census_gdf = census_gdf[\n",
    "    census_gdf['geometry'] != None\n",
    "]\n",
    "census_gdf = census_gdf.reset_index(drop=True)\n",
    "\n",
    "column_types = {\n",
    "    'Code': 'str',\n",
    "    'Name': 'str',\n",
    "    'Population': 'int',\n",
    "    'Area': 'float',\n",
    "    'geometry': 'geometry'\n",
    "}\n",
    "census_gdf = census_gdf.astype(column_types)"
   ]
  },
  {
   "cell_type": "markdown",
   "metadata": {},
   "source": [
    "## Create Figure and Display Data"
   ]
  },
  {
   "cell_type": "code",
   "execution_count": 3,
   "metadata": {},
   "outputs": [],
   "source": [
    "# Create figure data\n",
    "figure_df = census_gdf.copy()\n",
    "figure_df = figure_df.set_index('Name')\n",
    "figure_geojson = figure_df.__geo_interface__\n",
    "\n",
    "# Create figure\n",
    "figure = go.Figure()\n",
    "\n",
    "# Create and add choroplethmap trace\n",
    "trace = go.Choroplethmapbox(\n",
    "    name='Census',\n",
    "    geojson=figure_geojson,\n",
    "    locations=figure_df.index,\n",
    "    z=figure_df['Population'],\n",
    "    marker_opacity=0.5\n",
    ")\n",
    "figure = figure.add_trace(trace)\n",
    "\n",
    "# Create and add map layout\n",
    "layout = go.Layout(\n",
    "    mapbox=dict(\n",
    "        style=\"carto-positron\",\n",
    "        center=dict(\n",
    "            lat=-25,\n",
    "            lon=130\n",
    "        ),\n",
    "        zoom=2,\n",
    "        bounds=dict(\n",
    "            west=85,\n",
    "            east=185,\n",
    "            north=0,\n",
    "            south=-50\n",
    "        )\n",
    "    ),\n",
    "    autosize=True,\n",
    "    margin=dict(\n",
    "        l=0,\n",
    "        r=0,\n",
    "        t=0,\n",
    "        b=0\n",
    "    ),\n",
    "    height=650,\n",
    "    width=1300\n",
    ")\n",
    "figure = figure.update_layout(layout)"
   ]
  },
  {
   "cell_type": "code",
   "execution_count": 4,
   "metadata": {},
   "outputs": [],
   "source": [
    "# Show figure\n",
    "#figure.show()\n",
    "figure.write_html(f\"{file_base}/figure.html\")"
   ]
  }
 ],
 "metadata": {
  "kernelspec": {
   "display_name": "venv",
   "language": "python",
   "name": "python3"
  },
  "language_info": {
   "codemirror_mode": {
    "name": "ipython",
    "version": 3
   },
   "file_extension": ".py",
   "mimetype": "text/x-python",
   "name": "python",
   "nbconvert_exporter": "python",
   "pygments_lexer": "ipython3",
   "version": "3.9.6"
  }
 },
 "nbformat": 4,
 "nbformat_minor": 2
}
